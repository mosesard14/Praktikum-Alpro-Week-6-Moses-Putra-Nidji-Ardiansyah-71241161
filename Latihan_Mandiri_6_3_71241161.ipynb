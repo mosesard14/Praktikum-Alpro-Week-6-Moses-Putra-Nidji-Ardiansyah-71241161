{
  "nbformat": 4,
  "nbformat_minor": 0,
  "metadata": {
    "colab": {
      "provenance": [],
      "authorship_tag": "ABX9TyPSdAFehGZZGd8Hu1mrRbzT",
      "include_colab_link": true
    },
    "kernelspec": {
      "name": "python3",
      "display_name": "Python 3"
    },
    "language_info": {
      "name": "python"
    }
  },
  "cells": [
    {
      "cell_type": "markdown",
      "metadata": {
        "id": "view-in-github",
        "colab_type": "text"
      },
      "source": [
        "<a href=\"https://colab.research.google.com/github/mosesard14/Praktikum-Alpro-Week-6-Moses-Putra-Nidji-Ardiansyah-71241161/blob/main/Latihan_Mandiri_6_3_71241161.ipynb\" target=\"_parent\"><img src=\"https://colab.research.google.com/assets/colab-badge.svg\" alt=\"Open In Colab\"/></a>"
      ]
    },
    {
      "cell_type": "code",
      "execution_count": null,
      "metadata": {
        "id": "HJ4kGl-9WkvT",
        "colab": {
          "base_uri": "https://localhost:8080/"
        },
        "outputId": "5833aab9-48e8-49c0-ee32-42fb24cedd9e"
      },
      "outputs": [
        {
          "name": "stdout",
          "output_type": "stream",
          "text": [
            "Program penghitung IPS Mahasiswa\n",
            "Berapa jumlah mata kuliah?4\n"
          ]
        }
      ],
      "source": [
        "def hitungIPS():\n",
        "  print('Program penghitung IPS Mahasiswa')\n",
        "  jumlah_matkul = int(input('Berapa jumlah mata kuliah? '))\n",
        "\n",
        "  total_bobot = 0\n",
        "  sks_per_matkul = 3\n",
        "\n",
        "  for i in range(1, jumlah_matkul + 1):\n",
        "    while True:\n",
        "      nilai = input(f'Nilai MK ke{i}: ')\n",
        "      if nilai in ['A', 'B', 'C', 'D']:\n",
        "        break\n",
        "      else:\n",
        "        print('Nilai harus menggunakan huruf kapital')\n",
        "    if nilai == 'A':\n",
        "      bobot = 4\n",
        "    elif nilai == 'B':\n",
        "      bobot = 3\n",
        "    elif nilai == 'C':\n",
        "      bobot = 2\n",
        "    elif nilai == 'D':\n",
        "      bobot = 1\n",
        "\n",
        "    total_bobot += bobot * sks_per_matkul\n",
        "  ips = total_bobot / (jumlah_matkul * sks_per_matkul)\n",
        "  print(f'Nilai IPS anda semester ini {ips:.2f}')\n",
        "\n",
        "hitungIPS()"
      ]
    }
  ]
}