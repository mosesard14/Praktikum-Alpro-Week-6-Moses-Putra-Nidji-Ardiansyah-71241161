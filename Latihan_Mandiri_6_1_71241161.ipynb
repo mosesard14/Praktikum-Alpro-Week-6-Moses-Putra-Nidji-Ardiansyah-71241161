{
  "nbformat": 4,
  "nbformat_minor": 0,
  "metadata": {
    "colab": {
      "provenance": [],
      "authorship_tag": "ABX9TyPbFkZPMVka4WQrMPyOPjxr",
      "include_colab_link": true
    },
    "kernelspec": {
      "name": "python3",
      "display_name": "Python 3"
    },
    "language_info": {
      "name": "python"
    }
  },
  "cells": [
    {
      "cell_type": "markdown",
      "metadata": {
        "id": "view-in-github",
        "colab_type": "text"
      },
      "source": [
        "<a href=\"https://colab.research.google.com/github/mosesard14/Praktikum-Alpro-Week-6-Moses-Putra-Nidji-Ardiansyah-71241161/blob/main/Latihan_Mandiri_6_1_71241161.ipynb\" target=\"_parent\"><img src=\"https://colab.research.google.com/assets/colab-badge.svg\" alt=\"Open In Colab\"/></a>"
      ]
    },
    {
      "cell_type": "code",
      "execution_count": 48,
      "metadata": {
        "colab": {
          "base_uri": "https://localhost:8080/"
        },
        "id": "lhq5DGO3WEU4",
        "outputId": "1f3dd85c-a321-47f5-da1b-b287b6fd1106"
      },
      "outputs": [
        {
          "output_type": "stream",
          "name": "stdout",
          "text": [
            "6 x 5 = 5 + 5 + 5 + 5 + 5 + 5 = 30\n",
            "7 x 10 = 10 + 10 + 10 + 10 + 10 + 10 + 10 = 70\n"
          ]
        }
      ],
      "source": [
        "def perkalian(bil1,bil2):\n",
        "  print(bil1, \"x\", bil2, '=', end=' ')\n",
        "  hasil = bil1 * bil2\n",
        "  for i in range(bil1-1):\n",
        "    print(bil2,'+', end=\" \")\n",
        "  print(bil2, '=', hasil)\n",
        "\n",
        "perkalian(6,5)\n",
        "perkalian(7,10)"
      ]
    }
  ]
}