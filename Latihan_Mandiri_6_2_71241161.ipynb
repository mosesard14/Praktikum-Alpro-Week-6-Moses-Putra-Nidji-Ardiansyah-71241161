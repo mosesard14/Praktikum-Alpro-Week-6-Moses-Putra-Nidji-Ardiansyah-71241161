{
  "cells": [
    {
      "cell_type": "markdown",
      "metadata": {
        "id": "view-in-github",
        "colab_type": "text"
      },
      "source": [
        "<a href=\"https://colab.research.google.com/github/mosesard14/Praktikum-Alpro-Week-6-Moses-Putra-Nidji-Ardiansyah-71241161/blob/main/Latihan_Mandiri_6_2_71241161.ipynb\" target=\"_parent\"><img src=\"https://colab.research.google.com/assets/colab-badge.svg\" alt=\"Open In Colab\"/></a>"
      ]
    },
    {
      "cell_type": "code",
      "execution_count": 27,
      "metadata": {
        "colab": {
          "base_uri": "https://localhost:8080/"
        },
        "id": "9bgMpSjyWmr4",
        "outputId": "722f98b1-e8de-4cec-df61-5577e05e334e"
      },
      "outputs": [
        {
          "output_type": "stream",
          "name": "stdout",
          "text": [
            "Masukkan batas bawah: 11\n",
            "Masukkan batas atas: 30\n",
            "11, 13, 15, 17, 19, 21, 23, 25, 27, 29."
          ]
        }
      ],
      "source": [
        "bawah = int(input('Masukkan batas bawah: '))\n",
        "atas = int(input('Masukkan batas atas: '))\n",
        "def ganjil(bawah, atas):\n",
        "  if bawah < atas:\n",
        "    batas = bawah + 1 if bawah % 2 == 0 else bawah\n",
        "    while batas < atas:\n",
        "      print(batas, end=', ' if batas + 2 < atas else '.')\n",
        "      batas += 2\n",
        "  else:\n",
        "    batas = bawah - 1 if bawah % 2 == 0 else bawah\n",
        "    while batas > atas:\n",
        "      print(batas, end=', ' if batas - 2 > atas else '.')\n",
        "      batas -= 2\n",
        "\n",
        "ganjil(bawah, atas)"
      ]
    }
  ],
  "metadata": {
    "colab": {
      "provenance": [],
      "authorship_tag": "ABX9TyPCsr9beznVR77r7Hb+i1Tx",
      "include_colab_link": true
    },
    "kernelspec": {
      "display_name": "Python 3",
      "name": "python3"
    },
    "language_info": {
      "name": "python"
    }
  },
  "nbformat": 4,
  "nbformat_minor": 0
}